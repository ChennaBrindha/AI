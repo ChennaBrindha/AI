def alphabeta(node, depth, alpha, beta, maximizing, values):
    n_leaves = len(values)

    # Base case: reached leaf depth
    if depth == 0:
        return values[node]

    if maximizing:
        v = float('-inf')
        for i in range(2):  # two children
            child = node * 2 + i + 1
            if child < n_leaves:  # ensure within bounds
                v = max(v, alphabeta(child, depth - 1, alpha, beta, False, values))
                alpha = max(alpha, v)
                if beta <= alpha:  # prune
                    break
        return v
    else:
        v = float('inf')
        for i in range(2):
            child = node * 2 + i + 1
            if child < n_leaves:
                v = min(v, alphabeta(child, depth - 1, alpha, beta, True, values))
                beta = min(beta, v)
                if beta <= alpha:  # prune
                    break
        return v


# Example: depth=3 binary tree (2^3 = 8 leaf nodes)
values = [3, 5, 6, 9, 1, 2, 0, -1]
print("Alpha-Beta Pruning:", alphabeta(0, 3, float('-inf'), float('inf'), True, values))
Alpha-Beta Pruning: -inf
